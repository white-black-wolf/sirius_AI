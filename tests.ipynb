{
 "cells": [
  {
   "cell_type": "code",
   "execution_count": null,
   "id": "bb567ef6-8cc9-49d3-bff9-8144a9283ee6",
   "metadata": {},
   "outputs": [],
   "source": [
    "\n",
    "from sklearn.feature_extraction.text import CountVectorizer\n",
    "from sklearn.naive_bayes import MultinomialNB\n",
    "from sklearn.model_selection import train_test_split\n",
    "from sklearn.metrics import accuracy_score\n",
    "\n",
    "import sqlite3 as db\n",
    "from sklearn.svm import SVC\n",
    "from sklearn.feature_extraction.text import TfidfVectorizer\n",
    "import spacy\n",
    "import pandas as pd\n",
    "import tensorflow as tf\n",
    "from tensorflow.keras.models import Sequential\n",
    "from tensorflow.keras.layers import Dense, LSTM, Embedding\n",
    "import numpy as np"
   ]
  },
  {
   "cell_type": "code",
   "execution_count": null,
   "id": "8d673a81-1761-41fd-b7bb-acf3b664c50a",
   "metadata": {},
   "outputs": [],
   "source": [
    "#считываение ввода пользователя\n",
    "# def append_data_to_existing_csv(file_name, data):\n",
    "#     # Преобразуем данные в DataFrame\n",
    "#     df = DataFrame(data, columns=[\"text\", \"post_type\"])\n",
    "    \n",
    "#     # Добавляем данные в существующий файл\n",
    "#     df.to_csv(file_name, mode='a', index=False, header=False, encoding='utf-8')\n",
    "\n",
    "# new_data = [ [input(), '-'] ]\n",
    "\n",
    "# # Добавляем данные в CSV-файл\n",
    "# append_data_to_existing_csv('posts.csv', new_data)\n",
    "\n",
    "\n",
    "data = read_csv(\"posts.csv\")\n",
    "textss = data['text'].tolist()\n",
    "y = data['post_type'].tolist()\n"
   ]
  },
  {
   "cell_type": "code",
   "execution_count": null,
   "id": "604896a1-427c-4491-85b6-f99805908a81",
   "metadata": {},
   "outputs": [],
   "source": [
    "#обработка текста\n",
    "nlp = spacy.load(\"ru_core_news_lg\")\n",
    "\n",
    "texts = []\n",
    "stop_words = nlp.Defaults.stop_words\n",
    "custom_stop_words = [\"№\", \"!\", \"@\", \"#\", \"$\", \"%\", \"^\", \"&\", \"*\", \"(\", \")\", \"-\", \"_\", \"=\", \"+\", \"[\", \"]\", \"{\", \"}\", \";\", \":\", \"'\", \"\\\"\", \"\\\\\", \"|\", \",\", \".\", \"<\", \">\", \"/\", \"?\", \"~\", \"`\"]\n",
    "stop_words.update(custom_stop_words)\n",
    "#очитска, нормализация и токенизация данных\n",
    "for i in textss:\n",
    "    s = ''\n",
    "    doc = nlp(i)\n",
    "    for token in doc:\n",
    "        if not token.is_punct and not token.is_stop and not str(token).isdigit():\n",
    "            s+=token.lemma_\n",
    "            s+=' '\n",
    "    texts.append(s)\n",
    "    "
   ]
  },
  {
   "cell_type": "code",
   "execution_count": null,
   "id": "5cde6803-32f5-4612-bb21-7ee341dff109",
   "metadata": {},
   "outputs": [],
   "source": [
    "\n",
    "vectorizer = CountVectorizer()#иниацилизация\n",
    "X = vectorizer.fit_transform(texts)\n",
    "x = X.toarray()\n",
    "\n",
    "X_train, X_test, y_train , y_test = x[0:1200], x[1200:], y[0:1200], y[1200:]\n",
    "\n",
    "nb_classifier = MultinomialNB()#инициализация\n",
    "nb_classifier.fit(X_train, y_train)#обучаем модель\n",
    "y_pred = nb_classifier.predict(X_test)#получаем ответ от нейросети\n",
    "print(f\"Точность: {accuracy_score(y_test, y_pred)}\")\n",
    "# вывод и обработкак ответа\n",
    "# di = int(y_pred[-1])#обрабатываем ответ\n",
    "# print(dictt.get(di))#выводим ответ\n"
   ]
  },
  {
   "cell_type": "code",
   "execution_count": null,
   "id": "5bba801c-76ec-46ba-adb3-51fbaaf017c4",
   "metadata": {},
   "outputs": [],
   "source": [
    "\n",
    "tfidf_vectorizer = TfidfVectorizer()\n",
    "X_tfidf = tfidf_vectorizer.fit_transform(texts)\n",
    "x  = X_tfidf.toarray()\n",
    "X_train, X_test, y_train , y_test = x[0:1200], x[1200:], y[0:1200], y[1200:]\n",
    "\n",
    "nb_classifier = MultinomialNB()#инициализация\n",
    "nb_classifier.fit(X_train, y_train)#обучаем модель\n",
    "y_pred = nb_classifier.predict(X_test)#получаем ответ от нейросети\n",
    "print(f\"Точность: {accuracy_score(y_test, y_pred)}\")\n",
    "# вывод и обработкак ответа\n",
    "# di = int(y_pred[-1])#обрабатываем ответ\n",
    "# print(dictt.get(di))#выводим ответ\n"
   ]
  },
  {
   "cell_type": "code",
   "execution_count": null,
   "id": "06e27733-fe27-4e45-949c-d48edddc5117",
   "metadata": {},
   "outputs": [],
   "source": [
    "unique_words = set(word for text in texts for word in text.split())\n",
    "vocab = {word: i for i, word in enumerate(unique_words)}\n",
    "def one_hot_encode(text):\n",
    "    vector = np.zeros(len(vocab))\n",
    "    for word in text.split():\n",
    "        if word in vocab:\n",
    "            vector[vocab[word]] = 1\n",
    "    return vector\n",
    "x = np.array([one_hot_encode(text) for text in texts])\n",
    "X_train, X_test, y_train , y_test = x[0:1200], x[1200:], y[0:1200], y[1200:]\n",
    "\n",
    "nb_classifier = MultinomialNB()#инициализация\n",
    "nb_classifier.fit(X_train, y_train)#обучаем модель\n",
    "y_pred = nb_classifier.predict(X_test)#получаем ответ от нейросети\n",
    "print(f\"Точность: {accuracy_score(y_test, y_pred)}\")\n",
    "# вывод и обработкак ответа\n",
    "# di = int(y_pred[-1])#обрабатываем ответ\n",
    "# print(dictt.get(di))#выводим ответ\n"
   ]
  },
  {
   "cell_type": "code",
   "execution_count": null,
   "id": "29c211e3-74e5-49e1-896e-e374785311a1",
   "metadata": {},
   "outputs": [],
   "source": [
    "\n",
    "vectorizer = CountVectorizer()#иниацилизация\n",
    "X = vectorizer.fit_transform(texts)\n",
    "x = X.toarray()\n",
    "X_train, X_test, y_train , y_test = x[0:1200], x[1200:], y[0:1200], y[1200:]\n",
    "\n",
    "svm_classifier = SVC(kernel='linear')\n",
    "svm_classifier.fit(X_train, y_train)\n",
    "y_pred_svm = svm_classifier.predict(X_test)\n",
    "print(f\"Точность SVM: {accuracy_score(y_test, y_pred_svm)}\")\n",
    "# вывод и обработкак ответа\n",
    "# di = int(y_pred_svm[-1])\n",
    "# print(dictt.get(di))\n"
   ]
  },
  {
   "cell_type": "code",
   "execution_count": null,
   "id": "3e2d7955-10b5-4899-bc5f-3adee69835f3",
   "metadata": {},
   "outputs": [],
   "source": [
    "tfidf_vectorizer = TfidfVectorizer()\n",
    "X_tfidf = tfidf_vectorizer.fit_transform(texts)\n",
    "x  = X_tfidf.toarray()\n",
    "X_train, X_test, y_train , y_test = x[0:1200], x[1200:], y[0:1200], y[1200:]\n",
    "\n",
    "svm_classifier = SVC(kernel='linear')\n",
    "svm_classifier.fit(X_train, y_train)\n",
    "y_pred_svm = svm_classifier.predict(X_test)\n",
    "print(f\"Точность SVM: {accuracy_score(y_test, y_pred_svm)}\")\n",
    "# вывод и обработкак ответа\n",
    "# di = int(y_pred_svm[-1])\n",
    "# print(dictt.get(di))"
   ]
  },
  {
   "cell_type": "code",
   "execution_count": null,
   "id": "5d65a9bb-8d7d-4df0-bfd2-3da2fd1a53bf",
   "metadata": {},
   "outputs": [],
   "source": [
    "unique_words = set(word for text in texts for word in text.split())\n",
    "vocab = {word: i for i, word in enumerate(unique_words)}\n",
    "def one_hot_encode(text):\n",
    "    vector = np.zeros(len(vocab))\n",
    "    for word in text.split():\n",
    "        if word in vocab:\n",
    "            vector[vocab[word]] = 1\n",
    "    return vector\n",
    "x = np.array([one_hot_encode(text) for text in texts])\n",
    "X_train, X_test, y_train , y_test = x[0:1200], x[1200:], y[0:1200], y[1200:]\n",
    "    \n",
    "svm_classifier = SVC(kernel='linear')\n",
    "svm_classifier.fit(X_train, y_train)\n",
    "y_pred_svm = svm_classifier.predict(X_test)\n",
    "print(f\"Точность SVM: {accuracy_score(y_test, y_pred_svm)}\")\n",
    "# вывод и обработкак ответа\n",
    "# di = int(y_pred_svm[-1])\n",
    "# print(dictt.get(di))"
   ]
  },
  {
   "cell_type": "code",
   "execution_count": null,
   "id": "f0ad9986-0b55-4eff-810f-8c5e09b646ec",
   "metadata": {},
   "outputs": [],
   "source": [
    "#удаление данных, которые ввел пользователь\n",
    "# df = pd.read_csv('posts.csv')\n",
    "\n",
    "# # удаление строк, где значение в колонке 'столбец' равно 'значение'\n",
    "# df = df[df['post_type'] != 'хз']\n",
    "\n",
    "# # сохранение изменённого DataFrame в CSV-файл\n",
    "# df.to_csv('posts.csv', index=False)"
   ]
  },
  {
   "cell_type": "code",
   "execution_count": null,
   "id": "094843a9-4b9f-4cef-a9f8-951048d1cafd",
   "metadata": {},
   "outputs": [],
   "source": []
  },
  {
   "cell_type": "code",
   "execution_count": null,
   "id": "6285fbbe-1683-499b-9588-20b61abbfc0d",
   "metadata": {},
   "outputs": [],
   "source": []
  }
 ],
 "metadata": {
  "kernelspec": {
   "display_name": "Python 3 (ipykernel)",
   "language": "python",
   "name": "python3"
  },
  "language_info": {
   "codemirror_mode": {
    "name": "ipython",
    "version": 3
   },
   "file_extension": ".py",
   "mimetype": "text/x-python",
   "name": "python",
   "nbconvert_exporter": "python",
   "pygments_lexer": "ipython3",
   "version": "3.11.9"
  }
 },
 "nbformat": 4,
 "nbformat_minor": 5
}
